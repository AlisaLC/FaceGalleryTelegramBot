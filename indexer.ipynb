{
 "cells": [
  {
   "cell_type": "code",
   "execution_count": null,
   "metadata": {},
   "outputs": [],
   "source": [
    "from facenet_pytorch import MTCNN, InceptionResnetV1\n",
    "import torch\n",
    "import numpy as np\n",
    "import os\n",
    "from tqdm import tqdm\n",
    "import pickle\n",
    "import cv2\n",
    "\n",
    "device = torch.device('cuda:0' if torch.cuda.is_available() else 'cpu')\n",
    "mtcnn = MTCNN(\n",
    "    image_size=160, margin=0, min_face_size=20,\n",
    "    thresholds=[0.6, 0.7, 0.7], factor=0.709, post_process=True, select_largest=False, keep_all=True,\n",
    "    device=device\n",
    ")\n",
    "resnet = InceptionResnetV1(pretrained='vggface2').eval().to(device)\n",
    "\n",
    "def get_embeddings(image):\n",
    "    image = cv2.imread(image)\n",
    "    x_aligned = mtcnn(image)\n",
    "    if x_aligned is not None:\n",
    "        return resnet(x_aligned.to(device)).detach().cpu().numpy()\n",
    "    return np.array([])"
   ]
  },
  {
   "cell_type": "code",
   "execution_count": 3,
   "metadata": {},
   "outputs": [
    {
     "name": "stderr",
     "output_type": "stream",
     "text": [
      "100%|██████████| 800/800 [02:00<00:00,  6.64it/s]\n"
     ]
    }
   ],
   "source": [
    "CHANNEL_ID = # your gallery channel id\n",
    "\n",
    "embedding_to_file = {}\n",
    "for path, dirs, files in os.walk('data/'):\n",
    "    for file in tqdm(sorted(files, reverse=True)):\n",
    "        embeddings = get_embeddings(path + file)\n",
    "        for embedding in embeddings:\n",
    "            embedding_to_file[tuple(embedding)] = (CHANNEL_ID, int(file[:-4]))"
   ]
  },
  {
   "cell_type": "code",
   "execution_count": 4,
   "metadata": {},
   "outputs": [],
   "source": [
    "with open('embeddings_event.idx', 'wb') as f:\n",
    "    pickle.dump(embedding_to_file, f)"
   ]
  }
 ],
 "metadata": {
  "kernelspec": {
   "display_name": "Python 3",
   "language": "python",
   "name": "python3"
  },
  "language_info": {
   "codemirror_mode": {
    "name": "ipython",
    "version": 3
   },
   "file_extension": ".py",
   "mimetype": "text/x-python",
   "name": "python",
   "nbconvert_exporter": "python",
   "pygments_lexer": "ipython3",
   "version": "3.9.13"
  },
  "orig_nbformat": 4
 },
 "nbformat": 4,
 "nbformat_minor": 2
}
